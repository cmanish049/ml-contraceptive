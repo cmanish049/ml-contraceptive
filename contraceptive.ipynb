{
 "cells": [
  {
   "cell_type": "markdown",
   "id": "c9736bd1",
   "metadata": {
    "papermill": {
     "duration": 0.011982,
     "end_time": "2022-10-30T14:11:25.953052",
     "exception": false,
     "start_time": "2022-10-30T14:11:25.941070",
     "status": "completed"
    },
    "tags": []
   },
   "source": [
    "### Import Libraries and Data"
   ]
  },
  {
   "cell_type": "code",
   "execution_count": 25,
   "id": "ea30ba0e",
   "metadata": {
    "execution": {
     "iopub.execute_input": "2022-10-30T14:11:25.978935Z",
     "iopub.status.busy": "2022-10-30T14:11:25.978324Z",
     "iopub.status.idle": "2022-10-30T14:11:27.421552Z",
     "shell.execute_reply": "2022-10-30T14:11:27.420471Z"
    },
    "papermill": {
     "duration": 1.460487,
     "end_time": "2022-10-30T14:11:27.424345",
     "exception": false,
     "start_time": "2022-10-30T14:11:25.963858",
     "status": "completed"
    },
    "tags": []
   },
   "outputs": [],
   "source": [
    "# import library python\n",
    "\n",
    "import numpy as np\n",
    "import pandas as pd\n",
    "import matplotlib.pyplot as plt\n",
    "import seaborn as sns\n",
    "from sklearn.neighbors import KNeighborsClassifier\n",
    "from sklearn.naive_bayes import GaussianNB\n",
    "from sklearn.tree import DecisionTreeClassifier\n",
    "from sklearn.ensemble import RandomForestClassifier\n",
    "from sklearn.model_selection import train_test_split\n",
    "from sklearn.metrics import accuracy_score, confusion_matrix, classification_report"
   ]
  },
  {
   "cell_type": "code",
   "execution_count": 26,
   "id": "3d521f9c",
   "metadata": {
    "execution": {
     "iopub.execute_input": "2022-10-30T14:11:27.447861Z",
     "iopub.status.busy": "2022-10-30T14:11:27.447489Z",
     "iopub.status.idle": "2022-10-30T14:11:27.474472Z",
     "shell.execute_reply": "2022-10-30T14:11:27.472933Z"
    },
    "papermill": {
     "duration": 0.041905,
     "end_time": "2022-10-30T14:11:27.477115",
     "exception": false,
     "start_time": "2022-10-30T14:11:27.435210",
     "status": "completed"
    },
    "tags": []
   },
   "outputs": [],
   "source": [
    "# import dataset\n",
    "\n",
    "data=pd.read_csv('datasets/contraceptive/cmc.data',names=['Wife Age','Wife Education','Husband Education','Children',\n",
    "                                                'Wife religion','Wife working','Husband Occupation','SOLI',\n",
    "                                                'Media Exposure','Contraceptive Method'])"
   ]
  },
  {
   "cell_type": "markdown",
   "id": "4bf4bd90",
   "metadata": {
    "papermill": {
     "duration": 0.010553,
     "end_time": "2022-10-30T14:11:27.498519",
     "exception": false,
     "start_time": "2022-10-30T14:11:27.487966",
     "status": "completed"
    },
    "tags": []
   },
   "source": [
    "# 1. Business Understanding"
   ]
  },
  {
   "cell_type": "markdown",
   "id": "29ea415c",
   "metadata": {
    "papermill": {
     "duration": 0.012489,
     "end_time": "2022-10-30T14:11:27.521694",
     "exception": false,
     "start_time": "2022-10-30T14:11:27.509205",
     "status": "completed"
    },
    "tags": []
   },
   "source": [
    "The Indonesian government has conducted a survey on contraceptive prevalence. The research sample consists of interviews with non-pregnant women. The purpose of this survey is to predict the selection of contraceptive methods (no use, long-term methods, or short-term methods) based on demographic and socio-economic characteristics.\n",
    "\n",
    "(Source: https://archive.ics.uci.edu/ml/datasets/Contraceptive+Method+Choice)"
   ]
  },
  {
   "cell_type": "markdown",
   "id": "892c6253",
   "metadata": {
    "papermill": {
     "duration": 0.010491,
     "end_time": "2022-10-30T14:11:27.543171",
     "exception": false,
     "start_time": "2022-10-30T14:11:27.532680",
     "status": "completed"
    },
    "tags": []
   },
   "source": [
    "# 2. Data Understanding"
   ]
  },
  {
   "cell_type": "code",
   "execution_count": 27,
   "id": "eeff3e1d",
   "metadata": {},
   "outputs": [
    {
     "data": {
      "text/html": [
       "<div>\n",
       "<style scoped>\n",
       "    .dataframe tbody tr th:only-of-type {\n",
       "        vertical-align: middle;\n",
       "    }\n",
       "\n",
       "    .dataframe tbody tr th {\n",
       "        vertical-align: top;\n",
       "    }\n",
       "\n",
       "    .dataframe thead th {\n",
       "        text-align: right;\n",
       "    }\n",
       "</style>\n",
       "<table border=\"1\" class=\"dataframe\">\n",
       "  <thead>\n",
       "    <tr style=\"text-align: right;\">\n",
       "      <th></th>\n",
       "      <th>Wife Age</th>\n",
       "      <th>Wife Education</th>\n",
       "      <th>Husband Education</th>\n",
       "      <th>Children</th>\n",
       "      <th>Wife religion</th>\n",
       "      <th>Wife working</th>\n",
       "      <th>Husband Occupation</th>\n",
       "      <th>SOLI</th>\n",
       "      <th>Media Exposure</th>\n",
       "      <th>Contraceptive Method</th>\n",
       "    </tr>\n",
       "  </thead>\n",
       "  <tbody>\n",
       "    <tr>\n",
       "      <th>0</th>\n",
       "      <td>24</td>\n",
       "      <td>2</td>\n",
       "      <td>3</td>\n",
       "      <td>3</td>\n",
       "      <td>1</td>\n",
       "      <td>1</td>\n",
       "      <td>2</td>\n",
       "      <td>3</td>\n",
       "      <td>0</td>\n",
       "      <td>1</td>\n",
       "    </tr>\n",
       "    <tr>\n",
       "      <th>1</th>\n",
       "      <td>45</td>\n",
       "      <td>1</td>\n",
       "      <td>3</td>\n",
       "      <td>10</td>\n",
       "      <td>1</td>\n",
       "      <td>1</td>\n",
       "      <td>3</td>\n",
       "      <td>4</td>\n",
       "      <td>0</td>\n",
       "      <td>1</td>\n",
       "    </tr>\n",
       "    <tr>\n",
       "      <th>2</th>\n",
       "      <td>43</td>\n",
       "      <td>2</td>\n",
       "      <td>3</td>\n",
       "      <td>7</td>\n",
       "      <td>1</td>\n",
       "      <td>1</td>\n",
       "      <td>3</td>\n",
       "      <td>4</td>\n",
       "      <td>0</td>\n",
       "      <td>1</td>\n",
       "    </tr>\n",
       "    <tr>\n",
       "      <th>3</th>\n",
       "      <td>42</td>\n",
       "      <td>3</td>\n",
       "      <td>2</td>\n",
       "      <td>9</td>\n",
       "      <td>1</td>\n",
       "      <td>1</td>\n",
       "      <td>3</td>\n",
       "      <td>3</td>\n",
       "      <td>0</td>\n",
       "      <td>1</td>\n",
       "    </tr>\n",
       "    <tr>\n",
       "      <th>4</th>\n",
       "      <td>36</td>\n",
       "      <td>3</td>\n",
       "      <td>3</td>\n",
       "      <td>8</td>\n",
       "      <td>1</td>\n",
       "      <td>1</td>\n",
       "      <td>3</td>\n",
       "      <td>2</td>\n",
       "      <td>0</td>\n",
       "      <td>1</td>\n",
       "    </tr>\n",
       "  </tbody>\n",
       "</table>\n",
       "</div>"
      ],
      "text/plain": [
       "   Wife Age  Wife Education  Husband Education  Children  Wife religion  \\\n",
       "0        24               2                  3         3              1   \n",
       "1        45               1                  3        10              1   \n",
       "2        43               2                  3         7              1   \n",
       "3        42               3                  2         9              1   \n",
       "4        36               3                  3         8              1   \n",
       "\n",
       "   Wife working  Husband Occupation  SOLI  Media Exposure  \\\n",
       "0             1                   2     3               0   \n",
       "1             1                   3     4               0   \n",
       "2             1                   3     4               0   \n",
       "3             1                   3     3               0   \n",
       "4             1                   3     2               0   \n",
       "\n",
       "   Contraceptive Method  \n",
       "0                     1  \n",
       "1                     1  \n",
       "2                     1  \n",
       "3                     1  \n",
       "4                     1  "
      ]
     },
     "execution_count": 27,
     "metadata": {},
     "output_type": "execute_result"
    }
   ],
   "source": [
    "# Viewing data\n",
    "data.head()"
   ]
  },
  {
   "cell_type": "code",
   "execution_count": 28,
   "id": "d12fb8a1",
   "metadata": {
    "execution": {
     "iopub.execute_input": "2022-10-30T14:11:27.566419Z",
     "iopub.status.busy": "2022-10-30T14:11:27.566005Z",
     "iopub.status.idle": "2022-10-30T14:11:27.574619Z",
     "shell.execute_reply": "2022-10-30T14:11:27.573505Z"
    },
    "papermill": {
     "duration": 0.023024,
     "end_time": "2022-10-30T14:11:27.576876",
     "exception": false,
     "start_time": "2022-10-30T14:11:27.553852",
     "status": "completed"
    },
    "tags": []
   },
   "outputs": [
    {
     "data": {
      "text/plain": [
       "(1473, 10)"
      ]
     },
     "execution_count": 28,
     "metadata": {},
     "output_type": "execute_result"
    }
   ],
   "source": [
    "# Viewing the data dimensions.\n",
    "data.shape"
   ]
  },
  {
   "cell_type": "markdown",
   "id": "7ec7e217",
   "metadata": {
    "papermill": {
     "duration": 0.010772,
     "end_time": "2022-10-30T14:11:27.599023",
     "exception": false,
     "start_time": "2022-10-30T14:11:27.588251",
     "status": "completed"
    },
    "tags": []
   },
   "source": [
    "The dataset 'cmc.data' consists of 1473 data points and 10 attributes/features."
   ]
  },
  {
   "cell_type": "code",
   "execution_count": 29,
   "id": "dbca74bd",
   "metadata": {
    "execution": {
     "iopub.execute_input": "2022-10-30T14:11:27.623593Z",
     "iopub.status.busy": "2022-10-30T14:11:27.622482Z",
     "iopub.status.idle": "2022-10-30T14:11:27.650577Z",
     "shell.execute_reply": "2022-10-30T14:11:27.649437Z"
    },
    "papermill": {
     "duration": 0.043009,
     "end_time": "2022-10-30T14:11:27.652876",
     "exception": false,
     "start_time": "2022-10-30T14:11:27.609867",
     "status": "completed"
    },
    "tags": []
   },
   "outputs": [
    {
     "name": "stdout",
     "output_type": "stream",
     "text": [
      "<class 'pandas.core.frame.DataFrame'>\n",
      "RangeIndex: 1473 entries, 0 to 1472\n",
      "Data columns (total 10 columns):\n",
      " #   Column                Non-Null Count  Dtype\n",
      "---  ------                --------------  -----\n",
      " 0   Wife Age              1473 non-null   int64\n",
      " 1   Wife Education        1473 non-null   int64\n",
      " 2   Husband Education     1473 non-null   int64\n",
      " 3   Children              1473 non-null   int64\n",
      " 4   Wife religion         1473 non-null   int64\n",
      " 5   Wife working          1473 non-null   int64\n",
      " 6   Husband Occupation    1473 non-null   int64\n",
      " 7   SOLI                  1473 non-null   int64\n",
      " 8   Media Exposure        1473 non-null   int64\n",
      " 9   Contraceptive Method  1473 non-null   int64\n",
      "dtypes: int64(10)\n",
      "memory usage: 115.2 KB\n"
     ]
    }
   ],
   "source": [
    "# Viewing the names of attributes and their data types.\n",
    "data.info()"
   ]
  },
  {
   "cell_type": "markdown",
   "id": "389d557d",
   "metadata": {
    "papermill": {
     "duration": 0.010853,
     "end_time": "2022-10-30T14:11:27.675115",
     "exception": false,
     "start_time": "2022-10-30T14:11:27.664262",
     "status": "completed"
    },
    "tags": []
   },
   "source": [
    "# 3. Data Preparation"
   ]
  },
  {
   "cell_type": "markdown",
   "id": "a302339a",
   "metadata": {
    "papermill": {
     "duration": 0.01122,
     "end_time": "2022-10-30T14:11:27.697668",
     "exception": false,
     "start_time": "2022-10-30T14:11:27.686448",
     "status": "completed"
    },
    "tags": []
   },
   "source": [
    "### 3.1. Check Missing Value"
   ]
  },
  {
   "cell_type": "code",
   "execution_count": 30,
   "id": "e2c38e29",
   "metadata": {
    "execution": {
     "iopub.execute_input": "2022-10-30T14:11:27.722142Z",
     "iopub.status.busy": "2022-10-30T14:11:27.721358Z",
     "iopub.status.idle": "2022-10-30T14:11:27.731227Z",
     "shell.execute_reply": "2022-10-30T14:11:27.730152Z"
    },
    "papermill": {
     "duration": 0.024794,
     "end_time": "2022-10-30T14:11:27.733782",
     "exception": false,
     "start_time": "2022-10-30T14:11:27.708988",
     "status": "completed"
    },
    "tags": []
   },
   "outputs": [
    {
     "data": {
      "text/plain": [
       "Wife Age                0\n",
       "Wife Education          0\n",
       "Husband Education       0\n",
       "Children                0\n",
       "Wife religion           0\n",
       "Wife working            0\n",
       "Husband Occupation      0\n",
       "SOLI                    0\n",
       "Media Exposure          0\n",
       "Contraceptive Method    0\n",
       "dtype: int64"
      ]
     },
     "execution_count": 30,
     "metadata": {},
     "output_type": "execute_result"
    }
   ],
   "source": [
    "# Checking for the presence of missing values.\n",
    "data.isnull().sum()"
   ]
  },
  {
   "cell_type": "markdown",
   "id": "912369e4",
   "metadata": {
    "papermill": {
     "duration": 0.010711,
     "end_time": "2022-10-30T14:11:27.755834",
     "exception": false,
     "start_time": "2022-10-30T14:11:27.745123",
     "status": "completed"
    },
    "tags": []
   },
   "source": [
    "The missing value count for all attributes is 0 (zero), which can be interpreted as there are no missing data in each attribute."
   ]
  },
  {
   "cell_type": "markdown",
   "id": "5263a6d1",
   "metadata": {
    "papermill": {
     "duration": 0.010726,
     "end_time": "2022-10-30T14:11:27.777472",
     "exception": false,
     "start_time": "2022-10-30T14:11:27.766746",
     "status": "completed"
    },
    "tags": []
   },
   "source": [
    "### 3.2. Exploratory Data Analysis"
   ]
  },
  {
   "cell_type": "markdown",
   "id": "dcf5ca64",
   "metadata": {
    "papermill": {
     "duration": 0.010633,
     "end_time": "2022-10-30T14:11:27.799121",
     "exception": false,
     "start_time": "2022-10-30T14:11:27.788488",
     "status": "completed"
    },
    "tags": []
   },
   "source": [
    "#### 3.2.1. Univariate Analysis"
   ]
  },
  {
   "cell_type": "markdown",
   "id": "f9de5106",
   "metadata": {
    "papermill": {
     "duration": 0.01123,
     "end_time": "2022-10-30T14:11:27.822023",
     "exception": false,
     "start_time": "2022-10-30T14:11:27.810793",
     "status": "completed"
    },
    "tags": []
   },
   "source": [
    "##### Hisotgram Bar"
   ]
  },
  {
   "cell_type": "code",
   "execution_count": 31,
   "id": "c17d6a2c",
   "metadata": {
    "execution": {
     "iopub.execute_input": "2022-10-30T14:11:27.846740Z",
     "iopub.status.busy": "2022-10-30T14:11:27.846321Z",
     "iopub.status.idle": "2022-10-30T14:11:28.130043Z",
     "shell.execute_reply": "2022-10-30T14:11:28.129234Z"
    },
    "papermill": {
     "duration": 0.29852,
     "end_time": "2022-10-30T14:11:28.132347",
     "exception": false,
     "start_time": "2022-10-30T14:11:27.833827",
     "status": "completed"
    },
    "tags": []
   },
   "outputs": [
    {
     "data": {
      "text/plain": [
       "<Axes: xlabel='Wife Age', ylabel='Count'>"
      ]
     },
     "execution_count": 31,
     "metadata": {},
     "output_type": "execute_result"
    },
    {
     "data": {
      "image/png": "[encoded data removed]",
      "text/plain": [
       "<Figure size 400x400 with 1 Axes>"
      ]
     },
     "metadata": {},
     "output_type": "display_data"
    }
   ],
   "source": [
    "# Attribute Wife Age\n",
    "plt.figure(figsize=(4,4))\n",
    "sns.histplot(data['Wife Age'])"
   ]
  },
  {
   "cell_type": "markdown",
   "id": "6e41e3dc",
   "metadata": {
    "papermill": {
     "duration": 0.011401,
     "end_time": "2022-10-30T14:11:28.155635",
     "exception": false,
     "start_time": "2022-10-30T14:11:28.144234",
     "status": "completed"
    },
    "tags": []
   },
   "source": [
    "##### Bar Plot"
   ]
  },
  {
   "cell_type": "code",
   "execution_count": 32,
   "id": "4fba7b1f",
   "metadata": {
    "execution": {
     "iopub.execute_input": "2022-10-30T14:11:28.180689Z",
     "iopub.status.busy": "2022-10-30T14:11:28.179851Z",
     "iopub.status.idle": "2022-10-30T14:11:28.381990Z",
     "shell.execute_reply": "2022-10-30T14:11:28.380697Z"
    },
    "papermill": {
     "duration": 0.217618,
     "end_time": "2022-10-30T14:11:28.384759",
     "exception": false,
     "start_time": "2022-10-30T14:11:28.167141",
     "status": "completed"
    },
    "tags": []
   },
   "outputs": [
    {
     "data": {
      "text/plain": [
       "<Axes: xlabel='Wife Education', ylabel='count'>"
      ]
     },
     "execution_count": 32,
     "metadata": {},
     "output_type": "execute_result"
    },
    {
     "data": {
      "image/png": "[encoded data removed]",
      "text/plain": [
       "<Figure size 400x400 with 1 Axes>"
      ]
     },
     "metadata": {},
     "output_type": "display_data"
    }
   ],
   "source": [
    "# Wife Education\n",
    "plt.figure(figsize=(4,4))\n",
    "sns.countplot(x=data['Wife Education'], data=data)"
   ]
  },
  {
   "cell_type": "markdown",
   "id": "9a7e3ba8",
   "metadata": {},
   "source": [
    "##### Bar Plot"
   ]
  },
  {
   "cell_type": "code",
   "execution_count": 33,
   "id": "0e03cb6e",
   "metadata": {},
   "outputs": [
    {
     "data": {
      "text/plain": [
       "<Axes: xlabel='Contraceptive Method', ylabel='count'>"
      ]
     },
     "execution_count": 33,
     "metadata": {},
     "output_type": "execute_result"
    },
    {
     "data": {
      "image/png": "[encoded data removed]",
      "text/plain": [
       "<Figure size 300x300 with 1 Axes>"
      ]
     },
     "metadata": {},
     "output_type": "display_data"
    }
   ],
   "source": [
    "# Contraceptive Method Choices\n",
    "plt.figure(figsize=(3,3))\n",
    "sns.countplot(x=data['Contraceptive Method'], data=data)"
   ]
  },
  {
   "cell_type": "markdown",
   "id": "988fa6ce",
   "metadata": {
    "papermill": {
     "duration": 0.011583,
     "end_time": "2022-10-30T14:11:28.408426",
     "exception": false,
     "start_time": "2022-10-30T14:11:28.396843",
     "status": "completed"
    },
    "tags": []
   },
   "source": [
    "##### Box Plot"
   ]
  },
  {
   "cell_type": "code",
   "execution_count": 34,
   "id": "5730a685",
   "metadata": {
    "execution": {
     "iopub.execute_input": "2022-10-30T14:11:28.435425Z",
     "iopub.status.busy": "2022-10-30T14:11:28.435018Z",
     "iopub.status.idle": "2022-10-30T14:11:28.614184Z",
     "shell.execute_reply": "2022-10-30T14:11:28.613172Z"
    },
    "papermill": {
     "duration": 0.195209,
     "end_time": "2022-10-30T14:11:28.617114",
     "exception": false,
     "start_time": "2022-10-30T14:11:28.421905",
     "status": "completed"
    },
    "tags": []
   },
   "outputs": [
    {
     "data": {
      "text/plain": [
       "<Axes: xlabel='Children'>"
      ]
     },
     "execution_count": 34,
     "metadata": {},
     "output_type": "execute_result"
    },
    {
     "data": {
      "image/png": "[encoded data removed]",
      "text/plain": [
       "<Figure size 400x400 with 1 Axes>"
      ]
     },
     "metadata": {},
     "output_type": "display_data"
    }
   ],
   "source": [
    "# Children\n",
    "\n",
    "plt.figure(figsize=(4,4))\n",
    "sns.boxplot(x=data['Children'], data=data)"
   ]
  },
  {
   "cell_type": "markdown",
   "id": "f9b53ca3",
   "metadata": {
    "papermill": {
     "duration": 0.01916,
     "end_time": "2022-10-30T14:11:28.651976",
     "exception": false,
     "start_time": "2022-10-30T14:11:28.632816",
     "status": "completed"
    },
    "tags": []
   },
   "source": [
    "#### 3.2.2. Bivariate Analysis"
   ]
  },
  {
   "cell_type": "markdown",
   "id": "2d225353",
   "metadata": {
    "papermill": {
     "duration": 0.011954,
     "end_time": "2022-10-30T14:11:28.676795",
     "exception": false,
     "start_time": "2022-10-30T14:11:28.664841",
     "status": "completed"
    },
    "tags": []
   },
   "source": [
    "##### Scatter Plot"
   ]
  },
  {
   "cell_type": "code",
   "execution_count": 35,
   "id": "baaeb970",
   "metadata": {
    "execution": {
     "iopub.execute_input": "2022-10-30T14:11:28.703567Z",
     "iopub.status.busy": "2022-10-30T14:11:28.703119Z",
     "iopub.status.idle": "2022-10-30T14:11:29.139340Z",
     "shell.execute_reply": "2022-10-30T14:11:29.138173Z"
    },
    "papermill": {
     "duration": 0.452769,
     "end_time": "2022-10-30T14:11:29.141764",
     "exception": false,
     "start_time": "2022-10-30T14:11:28.688995",
     "status": "completed"
    },
    "tags": []
   },
   "outputs": [
    {
     "data": {
      "text/plain": [
       "<Axes: xlabel='Wife Age', ylabel='Children'>"
      ]
     },
     "execution_count": 35,
     "metadata": {},
     "output_type": "execute_result"
    },
    {
     "data": {
      "image/png": "[encoded data removed]",
      "text/plain": [
       "<Figure size 800x800 with 1 Axes>"
      ]
     },
     "metadata": {},
     "output_type": "display_data"
    }
   ],
   "source": [
    "# Correlation between Wife Age and Number of Children\n",
    "\n",
    "plt.figure(figsize=(8,8))\n",
    "sns.scatterplot(x= data['Wife Age'], y=data['Children'], hue=data['Contraceptive Method'])"
   ]
  },
  {
   "cell_type": "markdown",
   "id": "3dc08041",
   "metadata": {
    "papermill": {
     "duration": 0.013591,
     "end_time": "2022-10-30T14:11:29.168536",
     "exception": false,
     "start_time": "2022-10-30T14:11:29.154945",
     "status": "completed"
    },
    "tags": []
   },
   "source": [
    "From the scatter plot above, it can be seen that there is no correlation between the \"Wife Age\" attribute and the \"Children\" attribute."
   ]
  },
  {
   "cell_type": "markdown",
   "id": "2325ef4d",
   "metadata": {
    "papermill": {
     "duration": 0.012525,
     "end_time": "2022-10-30T14:11:29.193974",
     "exception": false,
     "start_time": "2022-10-30T14:11:29.181449",
     "status": "completed"
    },
    "tags": []
   },
   "source": [
    "### 3.3. Data Transformation and Sampling"
   ]
  },
  {
   "cell_type": "code",
   "execution_count": 36,
   "id": "93500849",
   "metadata": {
    "execution": {
     "iopub.execute_input": "2022-10-30T14:11:29.246904Z",
     "iopub.status.busy": "2022-10-30T14:11:29.246419Z",
     "iopub.status.idle": "2022-10-30T14:11:29.256932Z",
     "shell.execute_reply": "2022-10-30T14:11:29.255392Z"
    },
    "papermill": {
     "duration": 0.026997,
     "end_time": "2022-10-30T14:11:29.259238",
     "exception": false,
     "start_time": "2022-10-30T14:11:29.232241",
     "status": "completed"
    },
    "tags": []
   },
   "outputs": [
    {
     "data": {
      "text/plain": [
       "Wife Education\n",
       "4    577\n",
       "3    410\n",
       "2    334\n",
       "1    152\n",
       "Name: count, dtype: int64"
      ]
     },
     "execution_count": 36,
     "metadata": {},
     "output_type": "execute_result"
    }
   ],
   "source": [
    "data['Wife Education'].value_counts()"
   ]
  },
  {
   "cell_type": "code",
   "execution_count": 37,
   "id": "aace38a7",
   "metadata": {
    "execution": {
     "iopub.execute_input": "2022-10-30T14:11:29.287941Z",
     "iopub.status.busy": "2022-10-30T14:11:29.287448Z",
     "iopub.status.idle": "2022-10-30T14:11:29.298922Z",
     "shell.execute_reply": "2022-10-30T14:11:29.297634Z"
    },
    "papermill": {
     "duration": 0.028869,
     "end_time": "2022-10-30T14:11:29.301211",
     "exception": false,
     "start_time": "2022-10-30T14:11:29.272342",
     "status": "completed"
    },
    "tags": []
   },
   "outputs": [
    {
     "data": {
      "text/plain": [
       "Husband Education\n",
       "4    899\n",
       "3    352\n",
       "2    178\n",
       "1     44\n",
       "Name: count, dtype: int64"
      ]
     },
     "execution_count": 37,
     "metadata": {},
     "output_type": "execute_result"
    }
   ],
   "source": [
    "data['Husband Education'].value_counts()"
   ]
  },
  {
   "cell_type": "code",
   "execution_count": 38,
   "id": "281db72f",
   "metadata": {
    "execution": {
     "iopub.execute_input": "2022-10-30T14:11:29.329843Z",
     "iopub.status.busy": "2022-10-30T14:11:29.329441Z",
     "iopub.status.idle": "2022-10-30T14:11:29.337726Z",
     "shell.execute_reply": "2022-10-30T14:11:29.336883Z"
    },
    "papermill": {
     "duration": 0.02494,
     "end_time": "2022-10-30T14:11:29.339858",
     "exception": false,
     "start_time": "2022-10-30T14:11:29.314918",
     "status": "completed"
    },
    "tags": []
   },
   "outputs": [
    {
     "data": {
      "text/plain": [
       "Wife religion\n",
       "1    1253\n",
       "0     220\n",
       "Name: count, dtype: int64"
      ]
     },
     "execution_count": 38,
     "metadata": {},
     "output_type": "execute_result"
    }
   ],
   "source": [
    "data['Wife religion'].value_counts()"
   ]
  },
  {
   "cell_type": "code",
   "execution_count": 39,
   "id": "7af7f71f",
   "metadata": {
    "execution": {
     "iopub.execute_input": "2022-10-30T14:11:29.368480Z",
     "iopub.status.busy": "2022-10-30T14:11:29.368023Z",
     "iopub.status.idle": "2022-10-30T14:11:29.376625Z",
     "shell.execute_reply": "2022-10-30T14:11:29.375563Z"
    },
    "papermill": {
     "duration": 0.025539,
     "end_time": "2022-10-30T14:11:29.378776",
     "exception": false,
     "start_time": "2022-10-30T14:11:29.353237",
     "status": "completed"
    },
    "tags": []
   },
   "outputs": [
    {
     "data": {
      "text/plain": [
       "Wife working\n",
       "1    1104\n",
       "0     369\n",
       "Name: count, dtype: int64"
      ]
     },
     "execution_count": 39,
     "metadata": {},
     "output_type": "execute_result"
    }
   ],
   "source": [
    "data['Wife working'].value_counts()"
   ]
  },
  {
   "cell_type": "code",
   "execution_count": 40,
   "id": "3c34b4ce",
   "metadata": {
    "execution": {
     "iopub.execute_input": "2022-10-30T14:11:29.407835Z",
     "iopub.status.busy": "2022-10-30T14:11:29.407426Z",
     "iopub.status.idle": "2022-10-30T14:11:29.416169Z",
     "shell.execute_reply": "2022-10-30T14:11:29.415103Z"
    },
    "papermill": {
     "duration": 0.026023,
     "end_time": "2022-10-30T14:11:29.418574",
     "exception": false,
     "start_time": "2022-10-30T14:11:29.392551",
     "status": "completed"
    },
    "tags": []
   },
   "outputs": [
    {
     "data": {
      "text/plain": [
       "Husband Occupation\n",
       "3    585\n",
       "1    436\n",
       "2    425\n",
       "4     27\n",
       "Name: count, dtype: int64"
      ]
     },
     "execution_count": 40,
     "metadata": {},
     "output_type": "execute_result"
    }
   ],
   "source": [
    "data['Husband Occupation'].value_counts()"
   ]
  },
  {
   "cell_type": "code",
   "execution_count": 41,
   "id": "4674c558",
   "metadata": {
    "execution": {
     "iopub.execute_input": "2022-10-30T14:11:29.447765Z",
     "iopub.status.busy": "2022-10-30T14:11:29.447318Z",
     "iopub.status.idle": "2022-10-30T14:11:29.456116Z",
     "shell.execute_reply": "2022-10-30T14:11:29.454982Z"
    },
    "papermill": {
     "duration": 0.025733,
     "end_time": "2022-10-30T14:11:29.458379",
     "exception": false,
     "start_time": "2022-10-30T14:11:29.432646",
     "status": "completed"
    },
    "tags": []
   },
   "outputs": [
    {
     "data": {
      "text/plain": [
       "SOLI\n",
       "4    684\n",
       "3    431\n",
       "2    229\n",
       "1    129\n",
       "Name: count, dtype: int64"
      ]
     },
     "execution_count": 41,
     "metadata": {},
     "output_type": "execute_result"
    }
   ],
   "source": [
    "data['SOLI'].value_counts()"
   ]
  },
  {
   "cell_type": "code",
   "execution_count": 42,
   "id": "87a2a657",
   "metadata": {
    "execution": {
     "iopub.execute_input": "2022-10-30T14:11:29.487491Z",
     "iopub.status.busy": "2022-10-30T14:11:29.487093Z",
     "iopub.status.idle": "2022-10-30T14:11:29.495825Z",
     "shell.execute_reply": "2022-10-30T14:11:29.494675Z"
    },
    "papermill": {
     "duration": 0.02616,
     "end_time": "2022-10-30T14:11:29.498425",
     "exception": false,
     "start_time": "2022-10-30T14:11:29.472265",
     "status": "completed"
    },
    "tags": []
   },
   "outputs": [
    {
     "data": {
      "text/plain": [
       "Media Exposure\n",
       "0    1364\n",
       "1     109\n",
       "Name: count, dtype: int64"
      ]
     },
     "execution_count": 42,
     "metadata": {},
     "output_type": "execute_result"
    }
   ],
   "source": [
    "data['Media Exposure'].value_counts()"
   ]
  },
  {
   "cell_type": "code",
   "execution_count": 43,
   "id": "531827fd",
   "metadata": {
    "execution": {
     "iopub.execute_input": "2022-10-30T14:11:29.528151Z",
     "iopub.status.busy": "2022-10-30T14:11:29.527765Z",
     "iopub.status.idle": "2022-10-30T14:11:29.536005Z",
     "shell.execute_reply": "2022-10-30T14:11:29.535021Z"
    },
    "papermill": {
     "duration": 0.025419,
     "end_time": "2022-10-30T14:11:29.538061",
     "exception": false,
     "start_time": "2022-10-30T14:11:29.512642",
     "status": "completed"
    },
    "tags": []
   },
   "outputs": [
    {
     "data": {
      "text/plain": [
       "Contraceptive Method\n",
       "1    629\n",
       "3    511\n",
       "2    333\n",
       "Name: count, dtype: int64"
      ]
     },
     "execution_count": 43,
     "metadata": {},
     "output_type": "execute_result"
    }
   ],
   "source": [
    "data['Contraceptive Method'].value_counts()"
   ]
  },
  {
   "cell_type": "code",
   "execution_count": 44,
   "id": "33717fb2",
   "metadata": {
    "execution": {
     "iopub.execute_input": "2022-10-30T14:11:29.622718Z",
     "iopub.status.busy": "2022-10-30T14:11:29.621579Z",
     "iopub.status.idle": "2022-10-30T14:11:29.638821Z",
     "shell.execute_reply": "2022-10-30T14:11:29.637648Z"
    },
    "papermill": {
     "duration": 0.034578,
     "end_time": "2022-10-30T14:11:29.641158",
     "exception": false,
     "start_time": "2022-10-30T14:11:29.606580",
     "status": "completed"
    },
    "tags": []
   },
   "outputs": [
    {
     "data": {
      "text/html": [
       "<div>\n",
       "<style scoped>\n",
       "    .dataframe tbody tr th:only-of-type {\n",
       "        vertical-align: middle;\n",
       "    }\n",
       "\n",
       "    .dataframe tbody tr th {\n",
       "        vertical-align: top;\n",
       "    }\n",
       "\n",
       "    .dataframe thead th {\n",
       "        text-align: right;\n",
       "    }\n",
       "</style>\n",
       "<table border=\"1\" class=\"dataframe\">\n",
       "  <thead>\n",
       "    <tr style=\"text-align: right;\">\n",
       "      <th></th>\n",
       "      <th>Wife Age</th>\n",
       "      <th>Wife Education</th>\n",
       "      <th>Husband Education</th>\n",
       "      <th>Children</th>\n",
       "      <th>Wife religion</th>\n",
       "      <th>Wife working</th>\n",
       "      <th>Husband Occupation</th>\n",
       "      <th>SOLI</th>\n",
       "      <th>Media Exposure</th>\n",
       "      <th>Contraceptive Method</th>\n",
       "    </tr>\n",
       "  </thead>\n",
       "  <tbody>\n",
       "    <tr>\n",
       "      <th>0</th>\n",
       "      <td>24</td>\n",
       "      <td>2</td>\n",
       "      <td>3</td>\n",
       "      <td>3</td>\n",
       "      <td>1</td>\n",
       "      <td>1</td>\n",
       "      <td>2</td>\n",
       "      <td>3</td>\n",
       "      <td>0</td>\n",
       "      <td>1</td>\n",
       "    </tr>\n",
       "    <tr>\n",
       "      <th>1</th>\n",
       "      <td>45</td>\n",
       "      <td>1</td>\n",
       "      <td>3</td>\n",
       "      <td>10</td>\n",
       "      <td>1</td>\n",
       "      <td>1</td>\n",
       "      <td>3</td>\n",
       "      <td>4</td>\n",
       "      <td>0</td>\n",
       "      <td>1</td>\n",
       "    </tr>\n",
       "    <tr>\n",
       "      <th>2</th>\n",
       "      <td>43</td>\n",
       "      <td>2</td>\n",
       "      <td>3</td>\n",
       "      <td>7</td>\n",
       "      <td>1</td>\n",
       "      <td>1</td>\n",
       "      <td>3</td>\n",
       "      <td>4</td>\n",
       "      <td>0</td>\n",
       "      <td>1</td>\n",
       "    </tr>\n",
       "    <tr>\n",
       "      <th>3</th>\n",
       "      <td>42</td>\n",
       "      <td>3</td>\n",
       "      <td>2</td>\n",
       "      <td>9</td>\n",
       "      <td>1</td>\n",
       "      <td>1</td>\n",
       "      <td>3</td>\n",
       "      <td>3</td>\n",
       "      <td>0</td>\n",
       "      <td>1</td>\n",
       "    </tr>\n",
       "    <tr>\n",
       "      <th>4</th>\n",
       "      <td>36</td>\n",
       "      <td>3</td>\n",
       "      <td>3</td>\n",
       "      <td>8</td>\n",
       "      <td>1</td>\n",
       "      <td>1</td>\n",
       "      <td>3</td>\n",
       "      <td>2</td>\n",
       "      <td>0</td>\n",
       "      <td>1</td>\n",
       "    </tr>\n",
       "  </tbody>\n",
       "</table>\n",
       "</div>"
      ],
      "text/plain": [
       "   Wife Age  Wife Education  Husband Education  Children  Wife religion  \\\n",
       "0        24               2                  3         3              1   \n",
       "1        45               1                  3        10              1   \n",
       "2        43               2                  3         7              1   \n",
       "3        42               3                  2         9              1   \n",
       "4        36               3                  3         8              1   \n",
       "\n",
       "   Wife working  Husband Occupation  SOLI  Media Exposure  \\\n",
       "0             1                   2     3               0   \n",
       "1             1                   3     4               0   \n",
       "2             1                   3     4               0   \n",
       "3             1                   3     3               0   \n",
       "4             1                   3     2               0   \n",
       "\n",
       "   Contraceptive Method  \n",
       "0                     1  \n",
       "1                     1  \n",
       "2                     1  \n",
       "3                     1  \n",
       "4                     1  "
      ]
     },
     "execution_count": 44,
     "metadata": {},
     "output_type": "execute_result"
    }
   ],
   "source": [
    "data.head()"
   ]
  },
  {
   "cell_type": "markdown",
   "id": "b12f0988",
   "metadata": {
    "papermill": {
     "duration": 0.013787,
     "end_time": "2022-10-30T14:11:29.669106",
     "exception": false,
     "start_time": "2022-10-30T14:11:29.655319",
     "status": "completed"
    },
    "tags": []
   },
   "source": [
    "#### Correlation Matrix"
   ]
  },
  {
   "cell_type": "code",
   "execution_count": 45,
   "id": "71a0afd1",
   "metadata": {
    "execution": {
     "iopub.execute_input": "2022-10-30T14:11:29.699709Z",
     "iopub.status.busy": "2022-10-30T14:11:29.698936Z",
     "iopub.status.idle": "2022-10-30T14:11:29.719528Z",
     "shell.execute_reply": "2022-10-30T14:11:29.718454Z"
    },
    "papermill": {
     "duration": 0.038861,
     "end_time": "2022-10-30T14:11:29.721947",
     "exception": false,
     "start_time": "2022-10-30T14:11:29.683086",
     "status": "completed"
    },
    "tags": []
   },
   "outputs": [
    {
     "data": {
      "text/html": [
       "<div>\n",
       "<style scoped>\n",
       "    .dataframe tbody tr th:only-of-type {\n",
       "        vertical-align: middle;\n",
       "    }\n",
       "\n",
       "    .dataframe tbody tr th {\n",
       "        vertical-align: top;\n",
       "    }\n",
       "\n",
       "    .dataframe thead th {\n",
       "        text-align: right;\n",
       "    }\n",
       "</style>\n",
       "<table border=\"1\" class=\"dataframe\">\n",
       "  <thead>\n",
       "    <tr style=\"text-align: right;\">\n",
       "      <th></th>\n",
       "      <th>Wife Age</th>\n",
       "      <th>Wife Education</th>\n",
       "      <th>Husband Education</th>\n",
       "      <th>Children</th>\n",
       "      <th>Wife religion</th>\n",
       "      <th>Wife working</th>\n",
       "      <th>Husband Occupation</th>\n",
       "      <th>SOLI</th>\n",
       "      <th>Media Exposure</th>\n",
       "      <th>Contraceptive Method</th>\n",
       "    </tr>\n",
       "  </thead>\n",
       "  <tbody>\n",
       "    <tr>\n",
       "      <th>Wife Age</th>\n",
       "      <td>1.000000</td>\n",
       "      <td>-0.048011</td>\n",
       "      <td>-0.052879</td>\n",
       "      <td>0.540126</td>\n",
       "      <td>-0.139543</td>\n",
       "      <td>-0.039880</td>\n",
       "      <td>-0.202532</td>\n",
       "      <td>0.184485</td>\n",
       "      <td>0.113306</td>\n",
       "      <td>-0.162953</td>\n",
       "    </tr>\n",
       "    <tr>\n",
       "      <th>Wife Education</th>\n",
       "      <td>-0.048011</td>\n",
       "      <td>1.000000</td>\n",
       "      <td>0.618369</td>\n",
       "      <td>-0.193839</td>\n",
       "      <td>-0.232973</td>\n",
       "      <td>-0.062200</td>\n",
       "      <td>-0.395921</td>\n",
       "      <td>0.361450</td>\n",
       "      <td>-0.336080</td>\n",
       "      <td>0.149777</td>\n",
       "    </tr>\n",
       "    <tr>\n",
       "      <th>Husband Education</th>\n",
       "      <td>-0.052879</td>\n",
       "      <td>0.618369</td>\n",
       "      <td>1.000000</td>\n",
       "      <td>-0.187513</td>\n",
       "      <td>-0.178447</td>\n",
       "      <td>0.001099</td>\n",
       "      <td>-0.337003</td>\n",
       "      <td>0.357490</td>\n",
       "      <td>-0.288691</td>\n",
       "      <td>0.103226</td>\n",
       "    </tr>\n",
       "    <tr>\n",
       "      <th>Children</th>\n",
       "      <td>0.540126</td>\n",
       "      <td>-0.193839</td>\n",
       "      <td>-0.187513</td>\n",
       "      <td>1.000000</td>\n",
       "      <td>0.073917</td>\n",
       "      <td>0.097316</td>\n",
       "      <td>-0.023000</td>\n",
       "      <td>-0.006046</td>\n",
       "      <td>0.133658</td>\n",
       "      <td>0.082772</td>\n",
       "    </tr>\n",
       "    <tr>\n",
       "      <th>Wife religion</th>\n",
       "      <td>-0.139543</td>\n",
       "      <td>-0.232973</td>\n",
       "      <td>-0.178447</td>\n",
       "      <td>0.073917</td>\n",
       "      <td>1.000000</td>\n",
       "      <td>0.069837</td>\n",
       "      <td>0.084417</td>\n",
       "      <td>-0.196308</td>\n",
       "      <td>0.060243</td>\n",
       "      <td>-0.025271</td>\n",
       "    </tr>\n",
       "    <tr>\n",
       "      <th>Wife working</th>\n",
       "      <td>-0.039880</td>\n",
       "      <td>-0.062200</td>\n",
       "      <td>0.001099</td>\n",
       "      <td>0.097316</td>\n",
       "      <td>0.069837</td>\n",
       "      <td>1.000000</td>\n",
       "      <td>0.014232</td>\n",
       "      <td>-0.076505</td>\n",
       "      <td>0.001828</td>\n",
       "      <td>0.054438</td>\n",
       "    </tr>\n",
       "    <tr>\n",
       "      <th>Husband Occupation</th>\n",
       "      <td>-0.202532</td>\n",
       "      <td>-0.395921</td>\n",
       "      <td>-0.337003</td>\n",
       "      <td>-0.023000</td>\n",
       "      <td>0.084417</td>\n",
       "      <td>0.014232</td>\n",
       "      <td>1.000000</td>\n",
       "      <td>-0.293831</td>\n",
       "      <td>0.113925</td>\n",
       "      <td>0.018161</td>\n",
       "    </tr>\n",
       "    <tr>\n",
       "      <th>SOLI</th>\n",
       "      <td>0.184485</td>\n",
       "      <td>0.361450</td>\n",
       "      <td>0.357490</td>\n",
       "      <td>-0.006046</td>\n",
       "      <td>-0.196308</td>\n",
       "      <td>-0.076505</td>\n",
       "      <td>-0.293831</td>\n",
       "      <td>1.000000</td>\n",
       "      <td>-0.251359</td>\n",
       "      <td>0.091149</td>\n",
       "    </tr>\n",
       "    <tr>\n",
       "      <th>Media Exposure</th>\n",
       "      <td>0.113306</td>\n",
       "      <td>-0.336080</td>\n",
       "      <td>-0.288691</td>\n",
       "      <td>0.133658</td>\n",
       "      <td>0.060243</td>\n",
       "      <td>0.001828</td>\n",
       "      <td>0.113925</td>\n",
       "      <td>-0.251359</td>\n",
       "      <td>1.000000</td>\n",
       "      <td>-0.119206</td>\n",
       "    </tr>\n",
       "    <tr>\n",
       "      <th>Contraceptive Method</th>\n",
       "      <td>-0.162953</td>\n",
       "      <td>0.149777</td>\n",
       "      <td>0.103226</td>\n",
       "      <td>0.082772</td>\n",
       "      <td>-0.025271</td>\n",
       "      <td>0.054438</td>\n",
       "      <td>0.018161</td>\n",
       "      <td>0.091149</td>\n",
       "      <td>-0.119206</td>\n",
       "      <td>1.000000</td>\n",
       "    </tr>\n",
       "  </tbody>\n",
       "</table>\n",
       "</div>"
      ],
      "text/plain": [
       "                      Wife Age  Wife Education  Husband Education  Children  \\\n",
       "Wife Age              1.000000       -0.048011          -0.052879  0.540126   \n",
       "Wife Education       -0.048011        1.000000           0.618369 -0.193839   \n",
       "Husband Education    -0.052879        0.618369           1.000000 -0.187513   \n",
       "Children              0.540126       -0.193839          -0.187513  1.000000   \n",
       "Wife religion        -0.139543       -0.232973          -0.178447  0.073917   \n",
       "Wife working         -0.039880       -0.062200           0.001099  0.097316   \n",
       "Husband Occupation   -0.202532       -0.395921          -0.337003 -0.023000   \n",
       "SOLI                  0.184485        0.361450           0.357490 -0.006046   \n",
       "Media Exposure        0.113306       -0.336080          -0.288691  0.133658   \n",
       "Contraceptive Method -0.162953        0.149777           0.103226  0.082772   \n",
       "\n",
       "                      Wife religion  Wife working  Husband Occupation  \\\n",
       "Wife Age                  -0.139543     -0.039880           -0.202532   \n",
       "Wife Education            -0.232973     -0.062200           -0.395921   \n",
       "Husband Education         -0.178447      0.001099           -0.337003   \n",
       "Children                   0.073917      0.097316           -0.023000   \n",
       "Wife religion              1.000000      0.069837            0.084417   \n",
       "Wife working               0.069837      1.000000            0.014232   \n",
       "Husband Occupation         0.084417      0.014232            1.000000   \n",
       "SOLI                      -0.196308     -0.076505           -0.293831   \n",
       "Media Exposure             0.060243      0.001828            0.113925   \n",
       "Contraceptive Method      -0.025271      0.054438            0.018161   \n",
       "\n",
       "                          SOLI  Media Exposure  Contraceptive Method  \n",
       "Wife Age              0.184485        0.113306             -0.162953  \n",
       "Wife Education        0.361450       -0.336080              0.149777  \n",
       "Husband Education     0.357490       -0.288691              0.103226  \n",
       "Children             -0.006046        0.133658              0.082772  \n",
       "Wife religion        -0.196308        0.060243             -0.025271  \n",
       "Wife working         -0.076505        0.001828              0.054438  \n",
       "Husband Occupation   -0.293831        0.113925              0.018161  \n",
       "SOLI                  1.000000       -0.251359              0.091149  \n",
       "Media Exposure       -0.251359        1.000000             -0.119206  \n",
       "Contraceptive Method  0.091149       -0.119206              1.000000  "
      ]
     },
     "execution_count": 45,
     "metadata": {},
     "output_type": "execute_result"
    }
   ],
   "source": [
    "# Examine correlations between attributes\n",
    "\n",
    "correlation = data.corr()\n",
    "correlation"
   ]
  },
  {
   "cell_type": "code",
   "execution_count": 46,
   "id": "22554d82",
   "metadata": {
    "execution": {
     "iopub.execute_input": "2022-10-30T14:11:29.752581Z",
     "iopub.status.busy": "2022-10-30T14:11:29.752142Z",
     "iopub.status.idle": "2022-10-30T14:11:30.622584Z",
     "shell.execute_reply": "2022-10-30T14:11:30.621343Z"
    },
    "papermill": {
     "duration": 0.889075,
     "end_time": "2022-10-30T14:11:30.625462",
     "exception": false,
     "start_time": "2022-10-30T14:11:29.736387",
     "status": "completed"
    },
    "tags": []
   },
   "outputs": [
    {
     "data": {
      "text/plain": [
       "<Axes: >"
      ]
     },
     "execution_count": 46,
     "metadata": {},
     "output_type": "execute_result"
    },
    {
     "data": {
      "image/png": "[encoded data removed]",
      "text/plain": [
       "<Figure size 800x800 with 2 Axes>"
      ]
     },
     "metadata": {},
     "output_type": "display_data"
    }
   ],
   "source": [
    "plt.figure(figsize=(8,8))\n",
    "sns.heatmap(correlation, cbar=True, square=True, fmt='.2f', annot=True, annot_kws={'size':10}, cmap='YlGnBu')"
   ]
  },
  {
   "cell_type": "markdown",
   "id": "b42cabd1",
   "metadata": {
    "papermill": {
     "duration": 0.015261,
     "end_time": "2022-10-30T14:11:30.657567",
     "exception": false,
     "start_time": "2022-10-30T14:11:30.642306",
     "status": "completed"
    },
    "tags": []
   },
   "source": [
    "# 4. Modeling"
   ]
  },
  {
   "cell_type": "code",
   "execution_count": 47,
   "id": "e42b9902",
   "metadata": {
    "execution": {
     "iopub.execute_input": "2022-10-30T14:11:30.691114Z",
     "iopub.status.busy": "2022-10-30T14:11:30.690069Z",
     "iopub.status.idle": "2022-10-30T14:11:30.697345Z",
     "shell.execute_reply": "2022-10-30T14:11:30.696202Z"
    },
    "papermill": {
     "duration": 0.02689,
     "end_time": "2022-10-30T14:11:30.700103",
     "exception": false,
     "start_time": "2022-10-30T14:11:30.673213",
     "status": "completed"
    },
    "tags": []
   },
   "outputs": [
    {
     "data": {
      "text/plain": [
       "Contraceptive Method\n",
       "1    629\n",
       "3    511\n",
       "2    333\n",
       "Name: count, dtype: int64"
      ]
     },
     "execution_count": 47,
     "metadata": {},
     "output_type": "execute_result"
    }
   ],
   "source": [
    "# Separate regular attributes and class\n",
    "\n",
    "x = data.drop(columns='Contraceptive Method')\n",
    "y = data['Contraceptive Method']\n",
    "y.value_counts()"
   ]
  },
  {
   "cell_type": "code",
   "execution_count": 48,
   "id": "bff87e06",
   "metadata": {
    "execution": {
     "iopub.execute_input": "2022-10-30T14:11:30.732954Z",
     "iopub.status.busy": "2022-10-30T14:11:30.732570Z",
     "iopub.status.idle": "2022-10-30T14:11:30.742752Z",
     "shell.execute_reply": "2022-10-30T14:11:30.741210Z"
    },
    "papermill": {
     "duration": 0.029593,
     "end_time": "2022-10-30T14:11:30.745316",
     "exception": false,
     "start_time": "2022-10-30T14:11:30.715723",
     "status": "completed"
    },
    "tags": []
   },
   "outputs": [
    {
     "name": "stdout",
     "output_type": "stream",
     "text": [
      "data training:\n",
      "(1104, 9)\n",
      "(1104,)\n",
      "----------------\n",
      "data testing:\n",
      "(369, 9)\n",
      "(369,)\n"
     ]
    }
   ],
   "source": [
    "# Split the data into training data and testing data with a ratio of 75% for training data and 25% for testing data.\n",
    "\n",
    "xtrain, xtest, ytrain, ytest = train_test_split(x, y, test_size=0.25, random_state=0)\n",
    "\n",
    "print('data training:')\n",
    "print(xtrain.shape)\n",
    "print(ytrain.shape)\n",
    "print('----------------')\n",
    "print('data testing:')\n",
    "print(xtest.shape)\n",
    "print(ytest.shape)"
   ]
  },
  {
   "cell_type": "markdown",
   "id": "07685faa",
   "metadata": {
    "papermill": {
     "duration": 0.016005,
     "end_time": "2022-10-30T14:11:30.777099",
     "exception": false,
     "start_time": "2022-10-30T14:11:30.761094",
     "status": "completed"
    },
    "tags": []
   },
   "source": [
    "### 4.1. Algorithm k-NN"
   ]
  },
  {
   "cell_type": "code",
   "execution_count": 66,
   "id": "196c2fb0",
   "metadata": {
    "execution": {
     "iopub.execute_input": "2022-10-30T14:11:30.810690Z",
     "iopub.status.busy": "2022-10-30T14:11:30.809994Z",
     "iopub.status.idle": "2022-10-30T14:11:30.824286Z",
     "shell.execute_reply": "2022-10-30T14:11:30.822958Z"
    },
    "papermill": {
     "duration": 0.034057,
     "end_time": "2022-10-30T14:11:30.826959",
     "exception": false,
     "start_time": "2022-10-30T14:11:30.792902",
     "status": "completed"
    },
    "tags": []
   },
   "outputs": [
    {
     "name": "stdout",
     "output_type": "stream",
     "text": [
      "Accouracy score of K-NN algorithm: 0.5013550135501355\n"
     ]
    }
   ],
   "source": [
    "knn = KNeighborsClassifier(n_neighbors=5, weights='distance', p=2, metric='euclidean')\n",
    "\n",
    "# perform training\n",
    "knn.fit(xtrain, ytrain)\n",
    "\n",
    "# Perform classification using the k-NN algorithm.\n",
    "ypred_knn = knn.predict(xtest)\n",
    "\n",
    "# Calculate accuracy\n",
    "print(\"Accouracy score of K-NN algorithm:\", accuracy_score(ytest, ypred_knn))"
   ]
  },
  {
   "cell_type": "code",
   "execution_count": 67,
   "id": "f29b8f35",
   "metadata": {},
   "outputs": [
    {
     "name": "stdout",
     "output_type": "stream",
     "text": [
      "              precision    recall  f1-score   support\n",
      "\n",
      "           1       0.61      0.62      0.62       162\n",
      "           2       0.47      0.38      0.42        96\n",
      "           3       0.38      0.43      0.40       111\n",
      "\n",
      "    accuracy                           0.50       369\n",
      "   macro avg       0.49      0.48      0.48       369\n",
      "weighted avg       0.50      0.50      0.50       369\n",
      "\n"
     ]
    }
   ],
   "source": [
    "print(classification_report(ytest, ypred_knn))"
   ]
  },
  {
   "cell_type": "code",
   "execution_count": 69,
   "id": "2c5e3a1a",
   "metadata": {},
   "outputs": [
    {
     "data": {
      "text/plain": [
       "<Axes: >"
      ]
     },
     "execution_count": 69,
     "metadata": {},
     "output_type": "execute_result"
    },
    {
     "data": {
      "image/png": "[encoded data removed]",
      "text/plain": [
       "<Figure size 640x480 with 2 Axes>"
      ]
     },
     "metadata": {},
     "output_type": "display_data"
    }
   ],
   "source": [
    "cf_matrix = confusion_matrix(ytest, ypred_knn)\n",
    "sns.heatmap(cf_matrix, annot=True)"
   ]
  },
  {
   "cell_type": "markdown",
   "id": "543de7d8",
   "metadata": {
    "papermill": {
     "duration": 0.01538,
     "end_time": "2022-10-30T14:11:30.858309",
     "exception": false,
     "start_time": "2022-10-30T14:11:30.842929",
     "status": "completed"
    },
    "tags": []
   },
   "source": [
    "### 4.3. Algorithm Naive Bayes"
   ]
  },
  {
   "cell_type": "code",
   "execution_count": 53,
   "id": "76369273",
   "metadata": {
    "execution": {
     "iopub.execute_input": "2022-10-30T14:11:30.892239Z",
     "iopub.status.busy": "2022-10-30T14:11:30.891807Z",
     "iopub.status.idle": "2022-10-30T14:11:30.905952Z",
     "shell.execute_reply": "2022-10-30T14:11:30.905181Z"
    },
    "papermill": {
     "duration": 0.038591,
     "end_time": "2022-10-30T14:11:30.912795",
     "exception": false,
     "start_time": "2022-10-30T14:11:30.874204",
     "status": "completed"
    },
    "tags": []
   },
   "outputs": [
    {
     "name": "stdout",
     "output_type": "stream",
     "text": [
      "Accuracy score of NB classifier is 0.45528455284552843\n"
     ]
    }
   ],
   "source": [
    "nb = GaussianNB()\n",
    "\n",
    "# perform training\n",
    "nb.fit(xtrain, ytrain)\n",
    "\n",
    "# Perform classification using the Naive Bayes algorithm.\n",
    "ypred = nb.predict(xtest)\n",
    "\n",
    "# Calculate accuracy\n",
    "print(\"Accuracy score of NB classifier is\", accuracy_score(ytest, ypred))"
   ]
  },
  {
   "cell_type": "code",
   "execution_count": 54,
   "id": "ac889d13",
   "metadata": {},
   "outputs": [
    {
     "name": "stdout",
     "output_type": "stream",
     "text": [
      "              precision    recall  f1-score   support\n",
      "\n",
      "           1       0.60      0.40      0.48       162\n",
      "           2       0.41      0.58      0.48        96\n",
      "           3       0.38      0.42      0.40       111\n",
      "\n",
      "    accuracy                           0.46       369\n",
      "   macro avg       0.46      0.47      0.45       369\n",
      "weighted avg       0.48      0.46      0.46       369\n",
      "\n"
     ]
    }
   ],
   "source": [
    "print(classification_report(ytest,ypred))"
   ]
  },
  {
   "cell_type": "code",
   "execution_count": 55,
   "id": "17f23545",
   "metadata": {},
   "outputs": [
    {
     "data": {
      "text/plain": [
       "<Axes: >"
      ]
     },
     "execution_count": 55,
     "metadata": {},
     "output_type": "execute_result"
    },
    {
     "data": {
      "image/png": "[encoded data removed]",
      "text/plain": [
       "<Figure size 640x480 with 2 Axes>"
      ]
     },
     "metadata": {},
     "output_type": "display_data"
    }
   ],
   "source": [
    "cf_matrix = confusion_matrix(ytest, ypred)\n",
    "sns.heatmap(cf_matrix, annot=True)"
   ]
  },
  {
   "cell_type": "markdown",
   "id": "e72b422f",
   "metadata": {
    "papermill": {
     "duration": 0.023606,
     "end_time": "2022-10-30T14:11:30.954201",
     "exception": false,
     "start_time": "2022-10-30T14:11:30.930595",
     "status": "completed"
    },
    "tags": []
   },
   "source": [
    "### 4.3. Algorithm Decision Tree"
   ]
  },
  {
   "cell_type": "code",
   "execution_count": 59,
   "id": "ba9bdaec",
   "metadata": {
    "execution": {
     "iopub.execute_input": "2022-10-30T14:11:31.001657Z",
     "iopub.status.busy": "2022-10-30T14:11:31.001214Z",
     "iopub.status.idle": "2022-10-30T14:11:31.016066Z",
     "shell.execute_reply": "2022-10-30T14:11:31.014234Z"
    },
    "papermill": {
     "duration": 0.039148,
     "end_time": "2022-10-30T14:11:31.018581",
     "exception": false,
     "start_time": "2022-10-30T14:11:30.979433",
     "status": "completed"
    },
    "tags": []
   },
   "outputs": [
    {
     "name": "stdout",
     "output_type": "stream",
     "text": [
      "Accuracy score of Decision Tree Algorithm:  0.47696476964769646\n"
     ]
    }
   ],
   "source": [
    "dt = DecisionTreeClassifier()\n",
    "\n",
    "# perform training\n",
    "dt.fit(xtrain, ytrain)\n",
    "\n",
    "# Perform classification using the Decision Tree algorithm.\n",
    "ypred_dt = dt.predict(xtest)\n",
    "\n",
    "# Calculate accuracy\n",
    "print(\"Accuracy score of Decision Tree Algorithm: \", accuracy_score(ytest, ypred_dt))"
   ]
  },
  {
   "cell_type": "code",
   "execution_count": 60,
   "id": "3e7bf3a4",
   "metadata": {},
   "outputs": [
    {
     "name": "stdout",
     "output_type": "stream",
     "text": [
      "              precision    recall  f1-score   support\n",
      "\n",
      "           1       0.59      0.61      0.60       162\n",
      "           2       0.39      0.36      0.38        96\n",
      "           3       0.37      0.38      0.38       111\n",
      "\n",
      "    accuracy                           0.48       369\n",
      "   macro avg       0.45      0.45      0.45       369\n",
      "weighted avg       0.47      0.48      0.48       369\n",
      "\n"
     ]
    }
   ],
   "source": [
    "print(classification_report(ytest,ypred_dt))"
   ]
  },
  {
   "cell_type": "code",
   "execution_count": 61,
   "id": "01da40c4",
   "metadata": {},
   "outputs": [
    {
     "data": {
      "text/plain": [
       "<Axes: >"
      ]
     },
     "execution_count": 61,
     "metadata": {},
     "output_type": "execute_result"
    },
    {
     "data": {
      "image/png": "[encoded data removed]",
      "text/plain": [
       "<Figure size 640x480 with 2 Axes>"
      ]
     },
     "metadata": {},
     "output_type": "display_data"
    }
   ],
   "source": [
    "cf_matrix = confusion_matrix(ytest, ypred_dt)\n",
    "sns.heatmap(cf_matrix, annot=True)"
   ]
  },
  {
   "cell_type": "markdown",
   "id": "5bf1c95f",
   "metadata": {
    "papermill": {
     "duration": 0.018418,
     "end_time": "2022-10-30T14:11:31.053503",
     "exception": false,
     "start_time": "2022-10-30T14:11:31.035085",
     "status": "completed"
    },
    "tags": []
   },
   "source": [
    "# 5. Evaluation"
   ]
  },
  {
   "cell_type": "markdown",
   "id": "23622890",
   "metadata": {
    "papermill": {
     "duration": 0.015784,
     "end_time": "2022-10-30T14:11:31.086916",
     "exception": false,
     "start_time": "2022-10-30T14:11:31.071132",
     "status": "completed"
    },
    "tags": []
   },
   "source": [
    "##### Algorithm Comparison k-NN, Naive Bayes, and Decision Tree"
   ]
  },
  {
   "cell_type": "code",
   "execution_count": 62,
   "id": "9e2cf71b",
   "metadata": {
    "execution": {
     "iopub.execute_input": "2022-10-30T14:11:31.121304Z",
     "iopub.status.busy": "2022-10-30T14:11:31.120649Z",
     "iopub.status.idle": "2022-10-30T14:11:31.137341Z",
     "shell.execute_reply": "2022-10-30T14:11:31.135622Z"
    },
    "papermill": {
     "duration": 0.036807,
     "end_time": "2022-10-30T14:11:31.139735",
     "exception": false,
     "start_time": "2022-10-30T14:11:31.102928",
     "status": "completed"
    },
    "tags": []
   },
   "outputs": [
    {
     "name": "stdout",
     "output_type": "stream",
     "text": [
      "[0.5013550135501355, 0.45528455284552843, 0.47696476964769646]\n"
     ]
    }
   ],
   "source": [
    "models = [knn, nb, dt]\n",
    "accuracy_value = []\n",
    "for model in models:\n",
    "    ypred = model.predict(xtest)\n",
    "    accuracy = accuracy_score(ytest, ypred)\n",
    "    accuracy_value.append(accuracy)\n",
    "print(accuracy_value)"
   ]
  },
  {
   "cell_type": "code",
   "execution_count": null,
   "id": "12464c0a",
   "metadata": {},
   "outputs": [],
   "source": []
  },
  {
   "cell_type": "code",
   "execution_count": 65,
   "id": "b6f7759f",
   "metadata": {
    "execution": {
     "iopub.execute_input": "2022-10-30T14:11:31.177547Z",
     "iopub.status.busy": "2022-10-30T14:11:31.176272Z",
     "iopub.status.idle": "2022-10-30T14:11:31.391853Z",
     "shell.execute_reply": "2022-10-30T14:11:31.390714Z"
    },
    "papermill": {
     "duration": 0.238207,
     "end_time": "2022-10-30T14:11:31.394725",
     "exception": false,
     "start_time": "2022-10-30T14:11:31.156518",
     "status": "completed"
    },
    "tags": []
   },
   "outputs": [
    {
     "data": {
      "image/png": "[encoded data removed]",
      "text/plain": [
       "<Figure size 640x480 with 1 Axes>"
      ]
     },
     "metadata": {},
     "output_type": "display_data"
    }
   ],
   "source": [
    "plt.bar(['k-NN', 'Naive Bayes', 'Decision Tree'], accuracy_value)\n",
    "plt.ylim(0.00, 1.00)\n",
    "plt.title(\"Comparison of Classification Algorithms\", fontsize=15, color='r')\n",
    "plt.xlabel('Classification Algorithms', fontsize=12, color='g')\n",
    "plt.ylabel('Accuracy Value', fontsize=12, color='g')\n",
    "plt.tight_layout()\n",
    "plt.show()"
   ]
  },
  {
   "cell_type": "markdown",
   "id": "db6343a8",
   "metadata": {
    "papermill": {
     "duration": 0.016138,
     "end_time": "2022-10-30T14:11:31.430022",
     "exception": false,
     "start_time": "2022-10-30T14:11:31.413884",
     "status": "completed"
    },
    "tags": []
   },
   "source": [
    "From the three algorithms above, it can be seen that the k-NN algorithm produces the highest accuracy value for contraception selection classification."
   ]
  }
 ],
 "metadata": {
  "kernelspec": {
   "display_name": "Python 3 (ipykernel)",
   "language": "python",
   "name": "python3"
  },
  "language_info": {
   "codemirror_mode": {
    "name": "ipython",
    "version": 3
   },
   "file_extension": ".py",
   "mimetype": "text/x-python",
   "name": "python",
   "nbconvert_exporter": "python",
   "pygments_lexer": "ipython3",
   "version": "3.9.16"
  },
  "papermill": {
   "default_parameters": {},
   "duration": 14.895643,
   "end_time": "2022-10-30T14:11:32.334216",
   "environment_variables": {},
   "exception": null,
   "input_path": "__notebook__.ipynb",
   "output_path": "__notebook__.ipynb",
   "parameters": {},
   "start_time": "2022-10-30T14:11:17.438573",
   "version": "2.3.4"
  }
 },
 "nbformat": 4,
 "nbformat_minor": 5
}
